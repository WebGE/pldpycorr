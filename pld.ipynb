{
 "cells": [
  {
   "cell_type": "markdown",
   "metadata": {},
   "source": [
    "# PLD - Circuit logique combinatoire - <span style=\"color:blue;\">CORRECTION</span>"
   ]
  },
  {
   "cell_type": "markdown",
   "metadata": {},
   "source": [
    "**Ressources** : <a href=\"https://webge.synology.me/dokuwiki/doku.php?id=python:accueilpython\" target=\"_blank\"><input type=\"button\" value=\"Wiki Python sur WebGE\"></a> <a href=\"http://p.mariano.free.fr/doc/tnsi/tp/Architectures/TNSI_ARCH_DR_Logique_Comb_PLD.zip\" target=\"_blank\"><input type=\"button\" value=\"Document réponse\"></a>"
   ]
  },
  {
   "cell_type": "markdown",
   "metadata": {},
   "source": [
    "**Sommaire**\n",
    "* 1. Présentation\n",
    "* 2. Enoncé\n",
    "* 3. Equations de la fonction \"Décodage\"\n",
    "* 4. Simulation \n",
    "* 4.1 Préparation des vecteurs de test\n",
    "* 4.2 Exemple d'utilisation des vecteurs de test\n",
    "* 4.3 Test des sorties RAM, ROM et OE de la fonction \"Décodage\"\n",
    "* 4.4 Génération automatique de la table des vecteurs de test\n",
    "----"
   ]
  },
  {
   "cell_type": "markdown",
   "metadata": {},
   "source": [
    "## 1. Présentation\n",
    "Les circuits électroniques (microprocesseur, chipset, System on Chip) assurent le fonctionnement de nos outils numériques (ordinateur, tablette, smartphone, etc.). Ils sont constitués de fonctions logiques complexes (unité arithmétique et logique, multiplexeur, décodeur, etc.) issues de l'assemblage d'opérateurs logiques <strong>combinatoires</strong> (ET, OU, NON, etc.) et séquentiels (bascules). \n",
    "\n",
    "Dans ce document, vous allez **simuler** et **tester** une fonction \"**Décodage**\" réorganisée avec un circuit logique programmable."
   ]
  },
  {
   "cell_type": "markdown",
   "metadata": {},
   "source": [
    "### 1.1 Historique\n",
    "\n",
    "<table >\n",
    "    <tr>\n",
    "        <td style=\"text-align:left; font-size:14px\">\n",
    "            <p>Dans les <strong>années 80</strong>, une fonction logique telle que celle représentée par le logigramme ci-dessous nécessitait l’utilisation de <strong>trois circuits intégrés</strong> de type <a href=\"https://fr.wikipedia.org/wiki/Circuit_int%C3%A9gr%C3%A9\" target=\"_blank\">SSI</a> intégrant chacun quatre portes logiques.</p> <br> Ces composants étaient soudés et interconnectés par des pistes de cuivre sur un circuit imprimé.\n",
    "        </td>\n",
    "        <td>\n",
    "             <img src=\"img/7400.gif\" width=\"250px\">\n",
    "        </td>\n",
    "    </tr>\n",
    "</table>\n",
    "\n",
    "![decodeur.jpg](img/decodeur.jpg)\n",
    "\n",
    "<table >\n",
    "    <tr>\n",
    "        <td>\n",
    "            <img src=\"img/fpga.png\">\n",
    "        </td>\n",
    "        <td style=\"text-align:left; font-size:14px\">\n",
    "            On dispose <strong>aujourd’hui</strong> de <strong>circuits logiques programmables</strong> (<strong>P</strong>rogrammable <strong>L</strong>ogic <strong>D</strong>evices) capables, selon leur complexité, de remplacer quelques dizaines à plusieurs centaines de milliers de circuits logiques \"classiques\". Le mot \"programmable\" ne signifie pas que le circuit exécute un programme, mais que les opérateurs logiques qu'il contient sont interconnectés à l'aide d'un programme ! Si la fonction réalisée ne correspond pas à celle attendue ou si on souhaite la faire évoluer, le composant pourra être \"effacé\" et reprogrammé. <a href=\"http://meteosat.pessac.free.fr/Cd_elect/CFAO/cpld/pld/html_pld/pld.htm\" target=\"_blank\"><br>Pour en savoir plus</a>.<br><br>\n",
    "            Un circuit logique programmable renferme un grand nombre d’<strong>opérateurs logiques combinatoires</strong> (<strong>ET, OU, NON, etc</strong>.) et séquentiels (bascules). Ce type de composant est utilisé lors de la <strong>conception ou lors de la réorganisation</strong> d’un produit nécessitant la mise en œuvre d’un grand nombre d’opérateurs logiques, car il améliore la fiabilité du produit, diminue son coût de fabrication et lui confère une certaine évolutivité. <a href=\"https://fr.wikipedia.org/wiki/Circuit_logique_programmable\" target=\"_blank\">Wikipédia</a>.\n",
    "        </td>\n",
    "    </tr>\n",
    "</table>\n",
    "\n",
    "<table >\n",
    "    <tr>\n",
    "        <td style=\"text-align:left; font-size:14px\">\n",
    "            On assure l’<strong>interconnexion</strong> des opérateurs logiques avec un <strong>outil de programmation</strong> (ordinateur + logiciel).<br><br>\n",
    "            Lorsque la fonction à intégrer dans le PLD est <strong>combinatoire</strong> et suffisamment simple, il suffit d'écrire les <strong>équations logiques booléennes de ses sorties</strong> avec le logiciel de programmation \n",
    "        </td>\n",
    "        <td>\n",
    "            <img src=\"img/quartus.jpg\" width=\"200px\">\n",
    "        </td>\n",
    "    </tr>\n",
    "</table>\n",
    "\n",
    "<table >\n",
    "    <tr>\n",
    "        <td><img src=\"img/migen_logo.png\"></td>\n",
    "         <td style=\"text-align:left; font-size:14px\">La \"programmation\" d'un circuit logique programmable est réalisée avec un langage de description matériel ou  un outil de saisie graphique. Après compilation de cette description, on obtient un fichier de configuration pour le circuit choisi. <br> <strong>VHDL</strong> et <strong>Verilog</strong> sont les deux langages de description les plus répandus. Il existe cependant un outil, <a href=\"https://m-labs.hk/migen/manual/introduction.html\" target=\"_blank\">migen</a>, basé sur Python qui vise à automatiser davantage le processus de conception.</td>\n",
    "    </tr>\n",
    "</table>"
   ]
  },
  {
   "cell_type": "markdown",
   "metadata": {},
   "source": [
    "### 1.2 La fonction \"Décodage\"\n",
    "La fonction logique \"**Décodage**\" est une fonction **combinatoire**. Elle reçoit N bits en entrée (2<sup>N</sup> combinaisons) et délivre M bits en sortie telle que <strong>M ≤ 2<sup>N</sup></strong>. La fonction \"Décodage\" est courante en électronique numérique. Elle est notamment utilisée dans les microprocesseurs pour réaliser le décodeur d'instructions.<img src=\"img/registres.jpg\">\n",
    "\n",
    "## 2. Enoncé\n",
    "Dans le cadre de la modification d’une carte électronique, on souhaite intégrer une fonction **Décodage**, initialement réalisée avec trois composants logiques, dans un PLD. Le logigramme de cette fonction est donné ci-dessous.<img src=\"img/decodeur3.png\">"
   ]
  },
  {
   "cell_type": "markdown",
   "metadata": {},
   "source": [
    "#### Logigramme\n",
    "<img src=\"img/decodeur2.png\">\n",
    "<p style=\"text-align:right;\">Dessiné avec <a href=\"https://www.digikey.com/schemeit/\" target=\"_blank\">Scheme-it.</a></p>"
   ]
  },
  {
   "cell_type": "markdown",
   "metadata": {},
   "source": [
    "## 3. Equations de la fonction \"Décodage\"\n",
    "On limite l'étude à trois des six sorties de la fonction \"**Décodage**\". "
   ]
  },
  {
   "cell_type": "markdown",
   "metadata": {},
   "source": [
    "> **Activité 1. Complétez** le schéma fonctionnel sur le document réponse. Sachant que :\n",
    "> - RAM = f(PSEN, A15)\n",
    "> - ROM = f(PSEN, RD, A15)\n",
    "> - OE = f(A15, A14, A13, A12)\n",
    ">\n",
    "> **Ecrivez** les équations de RAM, ROM et OE. "
   ]
  },
  {
   "cell_type": "markdown",
   "metadata": {},
   "source": [
    "<p style=\"color:blue; font-weight:bold\">Correction</p>\n",
    "<img src=\"img/decodage.jpg\" width=\"400px\">\n",
    "<ul style=\"color:blue; font-weight:bold\">\n",
    "    <li>RAM = A15 + /PSEN</li>\n",
    "    <li>ROM = (/A15 . PSEN) + (RD . PSEN)</li>\n",
    "    <li>OE = A15 . A14 . A13 . A12</li>\n",
    "</ul>"
   ]
  },
  {
   "cell_type": "markdown",
   "metadata": {},
   "source": [
    "## 4. Simulation\n",
    "Après la phase de programmation d’un PLD, il est nécessaire d’en vérifier le fonctionnement. Dans le cas du test d’une fonction combinatoire, il suffit de placer sur ses entrées toutes les combinaisons logiques qu’elle est susceptible de recevoir et de comparer chaque état de sa sortie avec celui attendu. Ceci est fait automatiquement par l’outil de programmation. Seule l’écriture des **vecteurs de test** incombe au concepteur.\n",
    "\n",
    "Un vecteur de test se compose des **valeurs à placer sur les entrées** (E1, E2, .., En) de la fonction à tester et du **résultat attendu** sur sa sortie (S). Le vecteur de test i peut s'exprimer sous la forme : **Vi(E1, E2, .., En, S)**\n",
    "\n",
    "__Exemple__ : test d’une fonction f() implantée dans un PLD telle que **S = /E1.E2 + E1./E2** (/ <=> not)\n",
    "\n",
    "<img src=\"img/extest.png\" title=\"Fonction Ou Exclusif\">\n",
    "\n",
    "Dans l’exemple ci-dessus, les vecteurs V1(0,0,0), V2(0,1,1), V3(1,0,1) et V4(1,1,0) sont placés successivement sur les entrées du PLD reliées à la fonction f(). \n",
    "\n",
    "<p style=\"background-color:lightgrey; text-align:center; font-size:15px;\">Pour tester une sortie logique combinatoire, il est nécessaire d’écrire <strong>2<sup>n</sup></strong> vecteurs. <br> <strong>n représente le nombre d’entrées de la fonction.</strong>.</p>"
   ]
  },
  {
   "cell_type": "markdown",
   "metadata": {},
   "source": [
    "### 4.1 Préparation des vecteurs de test"
   ]
  },
  {
   "cell_type": "markdown",
   "metadata": {},
   "source": [
    "> **Activité 2. Complétez** les tables de vérité du document réponse avec les **résultats attendus** sur les sorties **RAM**, **ROM** et **OE**."
   ]
  },
  {
   "cell_type": "markdown",
   "metadata": {},
   "source": [
    "<p style=\"color:blue; font-weight:bold\">Correction</p>\n",
    "<img src=\"img/tables_corr.jpg\" width=\"800px\">"
   ]
  },
  {
   "cell_type": "markdown",
   "metadata": {},
   "source": [
    "### 4.2 Exemple d'utilisation des vecteurs de test\n",
    "Le langage Python dispose des opérateurs logiques **and**, **or** et **not** pour écrire des équations logiques. Les états logiques peuvent être représentés par des 1 et des 0. **0** <=>False, **1** <=> True. \n",
    "\n",
    "L'exemple ci-dessous illustre le test d'un opérateur **Ou Exclusif** à 2 entrées."
   ]
  },
  {
   "cell_type": "code",
   "execution_count": null,
   "metadata": {},
   "outputs": [],
   "source": [
    "# Exemple introductif\n",
    "'''\n",
    "Test d'une porte OU Exclusif à 2 entrées\n",
    "E1, E2 : entrées\n",
    "S : sortie (Sa est la sortie attendue, So est la sortie obtenue)\n",
    "'''\n",
    "Vecteurs_XOR = [(0, 0, 0), (0, 1, 1), (1, 0, 1), (1, 1, 0)] # Une liste de tuples matérialise la table des vecteurs de test\n",
    "print(\"[E1,E2] -> S \")\n",
    "for E1, E2, Sa in Vecteurs_XOR:\n",
    "    So = (not(E1) and E2 or E1 and not(E2)) # Equation de la porte OU Exclusif, parenthèses INDISPENSABLES !\n",
    "    if Sa == So: \n",
    "        print(f\"[{E1},{E2}] -> {Sa}\") # Afficher \"Sa\" garantie d'avoir uniquement des 0 et des 1 dans la table !\n",
    "    else:\n",
    "        print(f\"[{E1},{E2}] -> Erreur\")"
   ]
  },
  {
   "cell_type": "markdown",
   "metadata": {},
   "source": [
    ">**Activité 3. Simulons des erreurs de frappe ! <br>\n",
    "> Remplacez** le vecteur (0,1,1) par (0,1,0) et testez l'opérateur. Remplacez le or par un and et testez l'opérateur.<br>\n",
    "a) Que remarquez-vous ? <br>\n",
    "b) A quoi peut-on attribuer une ou plusieurs erreurs dans la table lorsque l'on teste un circuit logique programmable réel ? Renseignez le document réponse."
   ]
  },
  {
   "cell_type": "markdown",
   "metadata": {},
   "source": [
    "<p style=\"color:blue; font-weight:bold\">Correction</p>\n",
    "<p style=\"color:blue;\">a) Une erreur (So=/=Sa) est identifiée dans la table par le mot \"Erreur\"</p>\n",
    "<p style=\"color:blue;\">b) Lors du test d’un composant réel, les causes d’erreurs dans la table peuvent être :</p>\n",
    "<ul style=\"color:blue;\">\n",
    "    <li> des erreurs d’écriture dans les vecteurs de test,</li>\n",
    "    <li> des erreurs dans les équations,</li>\n",
    "    <li> le composant est défectueux.</li>\n",
    "</ul>"
   ]
  },
  {
   "cell_type": "markdown",
   "metadata": {},
   "source": [
    "### 4.3 Test des sorties  RAM, ROM et OE de la fonction \"Décodage\""
   ]
  },
  {
   "cell_type": "markdown",
   "metadata": {},
   "source": [
    "> **Activité 4**. En vous inspirant de l'exemple précédent, et en utilisant les résultats des activités 1 et 2, **testez** la sortie **RAM**."
   ]
  },
  {
   "cell_type": "code",
   "execution_count": null,
   "metadata": {},
   "outputs": [],
   "source": [
    "Vecteurs_RAM = [ # Correction\n",
    "  # A15,PSEN,RAMa \n",
    "    (0, 0, 1), \n",
    "    (0, 1, 0), \n",
    "    (1, 0, 1), \n",
    "    (1, 1, 1)] \n",
    "print(\"[A15,PSEN] -> RAM\")\n",
    "# Correction\n",
    "for A15, PSEN, RAMa in Vecteurs_RAM:\n",
    "    RAMo = (A15 or not(PSEN))\n",
    "    if RAMa == RAMo:\n",
    "        print(f\"[{A15},{PSEN}] -> {RAMa}\")\n",
    "    else:\n",
    "        print(f\"[{A15},{PSEN}] -> Erreur\")"
   ]
  },
  {
   "cell_type": "markdown",
   "metadata": {},
   "source": [
    "> **Activité 5**. En vous inspirant de l'exemple précédent, et en utilisant les résultats des activités 1 et 2, **testez** la sortie **ROM**."
   ]
  },
  {
   "cell_type": "code",
   "execution_count": null,
   "metadata": {},
   "outputs": [],
   "source": [
    "Vecteurs_ROM = [ # Correction\n",
    "  # A15,RD,PSEN,ROMa\n",
    "    (0, 0, 0, 0),\n",
    "    (0, 0, 1, 1),\n",
    "    (0, 1, 0, 0),\n",
    "    (0, 1, 1, 1),\n",
    "    (1, 0, 0, 0),\n",
    "    (1, 0, 1, 0),\n",
    "    (1, 1, 0, 0),\n",
    "    (1, 1, 1, 1)\n",
    "]\n",
    "print(\"[A15,RD,PSEN] -> ROM\")\n",
    "# Correction\n",
    "for A15, RD, PSEN, ROMa in Vecteurs_ROM:\n",
    "    ROMo = ((not(A15) and PSEN) or (RD and PSEN))\n",
    "    if ROMa == ROMo:\n",
    "        print(f\"[{A15},{RD},{PSEN}] -> {ROMa}\")\n",
    "    else:\n",
    "        print(f\"[{A15},{RD},{PSEN}] -> Erreur\")"
   ]
  },
  {
   "cell_type": "markdown",
   "metadata": {},
   "source": [
    "> **Activité 6**. En vous inspirant de l'exemple précédent, et en utilisant les résultats des activités 1 et 2, **testez** la sortie **OE**."
   ]
  },
  {
   "cell_type": "code",
   "execution_count": null,
   "metadata": {},
   "outputs": [],
   "source": [
    "Vecteurs_OE = [ # Correction\n",
    " # A15,A14,A13,A12,OEa\n",
    "    (0, 0, 0, 0, 0),\n",
    "    (0, 0, 0, 1, 0),\n",
    "    (0, 0, 1, 0, 0),\n",
    "    (0, 0, 1, 1, 0),\n",
    "    (0, 1, 0, 0, 0),\n",
    "    (0, 1, 0, 1, 0),\n",
    "    (0, 1, 1, 0, 0),\n",
    "    (0, 1, 1, 1, 0),\n",
    "    (1, 0, 0, 0, 0),\n",
    "    (1, 0, 0, 1, 0),\n",
    "    (1, 0, 1, 0, 0),\n",
    "    (1, 0, 1, 1, 0),\n",
    "    (1, 1, 0, 0, 0),\n",
    "    (1, 1, 0, 1, 0),\n",
    "    (1, 1, 1, 0, 0),\n",
    "    (1, 1, 1, 1, 1),\n",
    "]\n",
    "print(\"[A15,A14,A13,A12] -> OE\")\n",
    "# Correction\n",
    "for A15,A14,A13,A12,OEa in Vecteurs_OE:\n",
    "    OEo = (A15 and A14 and A13 and A12)\n",
    "    if OEa == OEo:\n",
    "        print(f\"[{A15},{A14},{A13},{A12}] -> {OEa}\")\n",
    "    else:\n",
    "        print(f\"[{A15},{A14},{A13},{A12}] -> Erreur\")"
   ]
  },
  {
   "cell_type": "markdown",
   "metadata": {},
   "source": [
    "### 4.4 Génération automatique de la table des vecteurs de test"
   ]
  },
  {
   "cell_type": "markdown",
   "metadata": {},
   "source": [
    "Lorsque le nombre d'entrées augmente, la table des vecteurs de test devient imposante. Pour **n=6**, il faut écrire **64 vecteurs**. L'écriture d'une telle table devient fastidieuse et le risque d'erreur augmente. Il devient alors nécessaire de disposer d'une fonction de génération automatique de la table des vecteurs de test. \n",
    "\n",
    "On propose l'algorithme ci-dessous."
   ]
  },
  {
   "cell_type": "raw",
   "metadata": {},
   "source": [
    "Algorithme creerVecteursTest(n,vs)\n",
    "Entrées\n",
    "n : nombre d'entrées de la fonction à tester\n",
    "vs : liste des valeurs attendues pour la sortie S de la fonction, notée Sa\n",
    "\n",
    "Sortie\n",
    "vecteurs : table des vecteurs de test\n",
    "\n",
    "début\n",
    "    pour i variant de 0 à (nombre_de_vecteur - 1) par pas de 1\n",
    "    faire\n",
    "       Construire le vecteur Vi(b_n-1, b_n-2,..., b0, Sa)\n",
    "       Ajouter Vi à vecteurs\n",
    "    fin faire\n",
    "    Renvoyer vecteurs\n",
    "fin"
   ]
  },
  {
   "cell_type": "markdown",
   "metadata": {},
   "source": [
    "**Remarque** : Python dispose de la fonction native <a href=\"https://docs.python.org/fr/3.6/library/functions.html#bin\" target=\"_blank\">bin</a>. Cette fonction convertit un nombre entier en binaire dans une chaîne avec le préfixe 0b."
   ]
  },
  {
   "cell_type": "code",
   "execution_count": null,
   "metadata": {},
   "outputs": [],
   "source": [
    "# Exemple \n",
    "bin(8)"
   ]
  },
  {
   "cell_type": "markdown",
   "metadata": {},
   "source": [
    ">**Activité 7**. **Complétez** la fonction *creerVecteursTest* ébauchée ci-dessous. *Conseil : développer la fonction dans un éditeur (VSCode, etc.) avant de la tester ici.*\n",
    ">\n",
    ">*Résultat attendu* <br>\n",
    ">[(0, 0, 0, 0), (0, 0, 1, 1), (0, 1, 0, 0), (0, 1, 1, 1), (1, 0, 0, 0), (1, 0, 1, 0), (1, 1, 0, 0), (1, 1, 1, 1)]"
   ]
  },
  {
   "cell_type": "code",
   "execution_count": null,
   "metadata": {},
   "outputs": [],
   "source": [
    "def creerVecteursTest(n, vs):\n",
    "    vecteurs = []\n",
    "    # Correction\n",
    "    vecteur_i = []  # Vecteur de la ligne i dans la table\n",
    "    for i in range(2**n):  # Pour n entrées, la table contient les lignes 0 <= i <= (2^n) - 1\n",
    "        # Suppression de '0b' dans la représentation binaire de i\n",
    "        binaire_i = bin(i)[2:] # pour i = 3 binaire_i='11'\n",
    "        # conversion du nombre binaire_i en une liste de booléens\n",
    "        for j in binaire_i:\n",
    "            vecteur_i.append(int(j)) # pour i = 3 vecteur_i = [1,1]\n",
    "        # si la taille du vecteur < n, il est complété par des 0\n",
    "        for _ in range(n-len(vecteur_i)):\n",
    "            vecteur_i.insert(0, 0) # pour i = 3 et n = 3 vecteur_i = [0,1,1]\n",
    "        vecteur_i.append(vs[i])  # Ajout de la valeur attendue pour s \n",
    "                                 # pour i = 3, n = 3 et vs[i] = 1 vecteur_i = [0,1,1,1]\n",
    "        # Ajout du vecteur i à la table des vecteurs\n",
    "        vecteurs.append(tuple(vecteur_i))  # sous la forme d'un tuple\n",
    "                          # pour i = 3, n = 3 et vs[i] = 1, on ajoute (0,1,1,1) à vecteurs\n",
    "        vecteur_i = []  # on vide le vecteur i en cours pour le calcul du vecteur i+1\n",
    "    return vecteurs\n",
    "    \n",
    "    return vecteurs\n",
    "\n",
    "# Test de la sortie Rom\n",
    "Roma = [0, 1, 0, 1, 0, 0, 0, 1]\n",
    "tableVecteurs = creerVecteursTest(3, Roma)\n",
    "print(tableVecteurs)"
   ]
  },
  {
   "cell_type": "markdown",
   "metadata": {},
   "source": [
    "> **Activité 8**. **Synthèse** : **utilisez** la fonction *creerVecteurTest* pour tester la sortie **OE**."
   ]
  },
  {
   "cell_type": "code",
   "execution_count": null,
   "metadata": {},
   "outputs": [],
   "source": [
    "OE = [0,0,0,0,0,0,0,0,0,0,0,0,0,0,0,1] # Correction\n",
    "Vecteurs_OE = creerVecteursTest(4, OE)\n",
    "print(\"[A15,A14,A13,A12] -> OE\")\n",
    "# Correction\n",
    "for A15,A14,A13,A12,OEa in Vecteurs_OE:\n",
    "    OEo = (A15 and A14 and A13 and A12)\n",
    "    if OEa == OEo:\n",
    "        print(f\"[{A15},{A14},{A13},{A12}] -> {OEa}\")\n",
    "    else:\n",
    "        print(f\"[{A15},{A14},{A13},{A12}] -> Erreur\")"
   ]
  },
  {
   "cell_type": "code",
   "execution_count": null,
   "metadata": {},
   "outputs": [],
   "source": []
  }
 ],
 "metadata": {
  "kernelspec": {
   "display_name": "Python 3.8.3 32-bit",
   "language": "python",
   "name": "python38332bit0c5f0624af374eaeb3d8b87af2df0b50"
  },
  "language_info": {
   "codemirror_mode": {
    "name": "ipython",
    "version": 3
   },
   "file_extension": ".py",
   "mimetype": "text/x-python",
   "name": "python",
   "nbconvert_exporter": "python",
   "pygments_lexer": "ipython3",
   "version": "3.8.3"
  }
 },
 "nbformat": 4,
 "nbformat_minor": 4
}
